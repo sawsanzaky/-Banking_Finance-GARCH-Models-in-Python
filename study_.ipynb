{
  "nbformat": 4,
  "nbformat_minor": 0,
  "metadata": {
    "colab": {
      "name": "study .ipynb",
      "provenance": [],
      "authorship_tag": "ABX9TyPmeG+WhFm5g1Y7D8b8lwy+",
      "include_colab_link": true
    },
    "kernelspec": {
      "name": "python3",
      "display_name": "Python 3"
    },
    "language_info": {
      "name": "python"
    }
  },
  "cells": [
    {
      "cell_type": "markdown",
      "metadata": {
        "id": "view-in-github",
        "colab_type": "text"
      },
      "source": [
        "<a href=\"https://colab.research.google.com/github/sawsanzaky/-Banking_Finance-GARCH-Models-in-Python/blob/main/study_.ipynb\" target=\"_parent\"><img src=\"https://colab.research.google.com/assets/colab-badge.svg\" alt=\"Open In Colab\"/></a>"
      ]
    },
    {
      "cell_type": "markdown",
      "source": [
        "**The Best Link**"
      ],
      "metadata": {
        "id": "CMn_tPh-moTw"
      }
    },
    {
      "cell_type": "markdown",
      "source": [
        "\n",
        "\n",
        "```\n",
        "https://goldinlocks.github.io/ARCH_GARCH-Volatility-Forecasting/\n",
        "```\n",
        "\n"
      ],
      "metadata": {
        "id": "rhh9JT4Gm0eE"
      }
    },
    {
      "cell_type": "markdown",
      "source": [
        "[link text](https://goldinlocks.github.io/ARCH_GARCH-Volatility-Forecasting/\n",
        ")"
      ],
      "metadata": {
        "id": "UBkrg58hm9cj"
      }
    },
    {
      "cell_type": "code",
      "source": [
        ""
      ],
      "metadata": {
        "id": "BOwrVQBEmuY0"
      },
      "execution_count": null,
      "outputs": []
    }
  ]
}