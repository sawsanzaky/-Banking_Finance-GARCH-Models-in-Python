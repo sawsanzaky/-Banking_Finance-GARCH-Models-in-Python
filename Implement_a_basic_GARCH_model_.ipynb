{
  "nbformat": 4,
  "nbformat_minor": 0,
  "metadata": {
    "colab": {
      "name": "Implement a basic GARCH model .ipynb",
      "provenance": [],
      "authorship_tag": "ABX9TyNrslWu0sJLIKvRT/ftpt9Y",
      "include_colab_link": true
    },
    "kernelspec": {
      "name": "python3",
      "display_name": "Python 3"
    },
    "language_info": {
      "name": "python"
    }
  },
  "cells": [
    {
      "cell_type": "markdown",
      "metadata": {
        "id": "view-in-github",
        "colab_type": "text"
      },
      "source": [
        "<a href=\"https://colab.research.google.com/github/sawsanzaky/-Banking_Finance-GARCH-Models-in-Python/blob/main/Implement_a_basic_GARCH_model_.ipynb\" target=\"_parent\"><img src=\"https://colab.research.google.com/assets/colab-badge.svg\" alt=\"Open In Colab\"/></a>"
      ]
    },
    {
      "cell_type": "markdown",
      "source": [
        " **ARCH and GARCH** :Auto Regressive Conditional Heteroskedasticity \n",
        "\n"
      ],
      "metadata": {
        "id": "gqRBPNjzVCVl"
      }
    },
    {
      "cell_type": "markdown",
      "source": [
        "will simulate an ARCH(1) and GARCH(1,1) time series respectively using a predefined function simulate_GARCH(n, omega, alpha, beta = 0)."
      ],
      "metadata": {
        "id": "mDFgohBfXPAr"
      }
    },
    {
      "cell_type": "code",
      "execution_count": 52,
      "metadata": {
        "id": "dHq01N0oRKwY"
      },
      "outputs": [],
      "source": [
        "import pandas as pd\n",
        "import numpy as np\n",
        "import matplotlib.pyplot as plt\n",
        "import math\n",
        "#from arch import arch_model\n"
      ]
    },
    {
      "cell_type": "code",
      "source": [
        "pip install arch"
      ],
      "metadata": {
        "colab": {
          "base_uri": "https://localhost:8080/"
        },
        "id": "VnEyM9oEhN_J",
        "outputId": "7bd6c8a9-dc24-4d14-b868-d727e414e01e"
      },
      "execution_count": 48,
      "outputs": [
        {
          "output_type": "stream",
          "name": "stdout",
          "text": [
            "Requirement already satisfied: arch in /usr/local/lib/python3.7/dist-packages (5.1.0)\n",
            "Requirement already satisfied: statsmodels>=0.11 in /usr/local/lib/python3.7/dist-packages (from arch) (0.13.1)\n",
            "Requirement already satisfied: numpy>=1.17 in /usr/local/lib/python3.7/dist-packages (from arch) (1.19.5)\n",
            "Requirement already satisfied: pandas>=1.0 in /usr/local/lib/python3.7/dist-packages (from arch) (1.1.5)\n",
            "Requirement already satisfied: property-cached>=1.6.4 in /usr/local/lib/python3.7/dist-packages (from arch) (1.6.4)\n",
            "Requirement already satisfied: scipy>=1.3 in /usr/local/lib/python3.7/dist-packages (from arch) (1.4.1)\n",
            "Requirement already satisfied: pytz>=2017.2 in /usr/local/lib/python3.7/dist-packages (from pandas>=1.0->arch) (2018.9)\n",
            "Requirement already satisfied: python-dateutil>=2.7.3 in /usr/local/lib/python3.7/dist-packages (from pandas>=1.0->arch) (2.8.2)\n",
            "Requirement already satisfied: six>=1.5 in /usr/local/lib/python3.7/dist-packages (from python-dateutil>=2.7.3->pandas>=1.0->arch) (1.15.0)\n",
            "Requirement already satisfied: patsy>=0.5.2 in /usr/local/lib/python3.7/dist-packages (from statsmodels>=0.11->arch) (0.5.2)\n"
          ]
        }
      ]
    },
    {
      "cell_type": "code",
      "source": [
        "!git clone https://github.com/sawsanzaky/-Banking_Finance-GARCH-Models-in-Python"
      ],
      "metadata": {
        "colab": {
          "base_uri": "https://localhost:8080/"
        },
        "id": "RlAj_v2qRaBQ",
        "outputId": "68f3dfd0-6d12-4895-9a34-24eddf31533f"
      },
      "execution_count": 31,
      "outputs": [
        {
          "output_type": "stream",
          "name": "stdout",
          "text": [
            "fatal: destination path '-Banking_Finance-GARCH-Models-in-Python' already exists and is not an empty directory.\n"
          ]
        }
      ]
    },
    {
      "cell_type": "markdown",
      "source": [
        "\n",
        "\n",
        "---\n",
        "\n",
        "\n",
        "\n",
        "---\n",
        "\n"
      ],
      "metadata": {
        "id": "-O0J8QEGehUi"
      }
    },
    {
      "cell_type": "code",
      "source": [
        "sp_price= pd.read_csv(\"/content/-Banking_Finance-GARCH-Models-in-Python/SP500.csv\")\n",
        "print(sp_price.head(2))\n"
      ],
      "metadata": {
        "colab": {
          "base_uri": "https://localhost:8080/"
        },
        "id": "YXcMCcI7J_ka",
        "outputId": "a33669d6-068d-4a74-fe3a-8f8fdb8b1f8f"
      },
      "execution_count": 32,
      "outputs": [
        {
          "output_type": "stream",
          "name": "stdout",
          "text": [
            "         Date    Close    Return\n",
            "0  2010/07/01  1027.37 -0.324048\n",
            "1  2010/07/02  1022.58 -0.466239\n"
          ]
        }
      ]
    },
    {
      "cell_type": "markdown",
      "source": [
        "**function of simulation **"
      ],
      "metadata": {
        "id": "kvO2A_OMVe-4"
      }
    },
    {
      "cell_type": "code",
      "source": [
        "def simulate_GARCH(n, omega, alpha, beta = 0):\n",
        "    np.random.seed(4)\n",
        "    # Initialize the parameters\n",
        "    white_noise = np.random.normal(size = n)\n",
        "    resid = np.zeros_like(white_noise)\n",
        "    variance = np.zeros_like(white_noise)\n",
        "    \n",
        "    for t in range(1, n):\n",
        "        # Simulate the variance (sigma squared)\n",
        "        variance[t] = omega + alpha * resid[t-1]**2 + beta * variance[t-1]\n",
        "        # Simulate the residuals\n",
        "        resid[t] = np.sqrt(variance[t]) * white_noise[t]    \n",
        "    \n",
        "    return resid, variance"
      ],
      "metadata": {
        "id": "3EQPqH4BhB4z"
      },
      "execution_count": 45,
      "outputs": []
    },
    {
      "cell_type": "code",
      "source": [
        "# Specify GARCH model assumptions\n",
        "basic_gm = arch_model(sp_price['Return'], p = 1, q = 1,\n",
        "                      mean = 'constant', vol = 'GARCH', dist = 'normal')\n",
        "# Fit the model\n",
        "gm_result = basic_gm.fit(update_freq = 4)\n",
        "\n",
        "# Display model fitting summary\n",
        "print(gm_result.summary())\n",
        "\n",
        "# Plot fitted results\n",
        "gm_result.plot()\n",
        "plt.show()"
      ],
      "metadata": {
        "colab": {
          "base_uri": "https://localhost:8080/",
          "height": 235
        },
        "id": "ErY8XtusfZE_",
        "outputId": "1eb1bc4f-f5eb-4bb5-d19d-39d796ab3880"
      },
      "execution_count": 50,
      "outputs": [
        {
          "output_type": "error",
          "ename": "NameError",
          "evalue": "ignored",
          "traceback": [
            "\u001b[0;31m---------------------------------------------------------------------------\u001b[0m",
            "\u001b[0;31mNameError\u001b[0m                                 Traceback (most recent call last)",
            "\u001b[0;32m<ipython-input-50-f2a3e76daf19>\u001b[0m in \u001b[0;36m<module>\u001b[0;34m()\u001b[0m\n\u001b[1;32m      1\u001b[0m \u001b[0;31m# Specify GARCH model assumptions\u001b[0m\u001b[0;34m\u001b[0m\u001b[0;34m\u001b[0m\u001b[0;34m\u001b[0m\u001b[0m\n\u001b[0;32m----> 2\u001b[0;31m basic_gm = arch_model(sp_price['Return'], p = 1, q = 1,\n\u001b[0m\u001b[1;32m      3\u001b[0m                       mean = 'constant', vol = 'GARCH', dist = 'normal')\n\u001b[1;32m      4\u001b[0m \u001b[0;31m# Fit the model\u001b[0m\u001b[0;34m\u001b[0m\u001b[0;34m\u001b[0m\u001b[0;34m\u001b[0m\u001b[0m\n\u001b[1;32m      5\u001b[0m \u001b[0mgm_result\u001b[0m \u001b[0;34m=\u001b[0m \u001b[0mbasic_gm\u001b[0m\u001b[0;34m.\u001b[0m\u001b[0mfit\u001b[0m\u001b[0;34m(\u001b[0m\u001b[0mupdate_freq\u001b[0m \u001b[0;34m=\u001b[0m \u001b[0;36m4\u001b[0m\u001b[0;34m)\u001b[0m\u001b[0;34m\u001b[0m\u001b[0;34m\u001b[0m\u001b[0m\n",
            "\u001b[0;31mNameError\u001b[0m: name 'arch_model' is not defined"
          ]
        }
      ]
    },
    {
      "cell_type": "markdown",
      "source": [
        "**Make forecast with GARCH models**"
      ],
      "metadata": {
        "id": "lo_1bm9GiF2M"
      }
    },
    {
      "cell_type": "code",
      "source": [
        "# Specify a GARCH(1,1) model\n",
        "basic_gm = arch_model(sp_data['Return'], p = 1, q = 1, \n",
        "                      mean = 'constant', vol = 'GARCH', dist = 'normal')\n",
        "# Fit the model\n",
        "gm_result = basic_gm.fit()\n",
        "\n",
        "# Make 5-period ahead forecast\n",
        "gm_forecast = gm_result.forecast(horizon = 5)\n",
        "\n",
        "# Print the forecast variance\n",
        "print(gm_forecast.variance[-1:])"
      ],
      "metadata": {
        "id": "F_L_ZrsbhC6y"
      },
      "execution_count": null,
      "outputs": []
    },
    {
      "cell_type": "code",
      "source": [
        ""
      ],
      "metadata": {
        "id": "j7q3co4giH-t"
      },
      "execution_count": null,
      "outputs": []
    }
  ]
}