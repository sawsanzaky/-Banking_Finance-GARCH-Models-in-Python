{
  "nbformat": 4,
  "nbformat_minor": 0,
  "metadata": {
    "colab": {
      "name": "Volatility .ipynb",
      "provenance": [],
      "authorship_tag": "ABX9TyOIehTkc9//8AVbTVZMkrNX",
      "include_colab_link": true
    },
    "kernelspec": {
      "name": "python3",
      "display_name": "Python 3"
    },
    "language_info": {
      "name": "python"
    }
  },
  "cells": [
    {
      "cell_type": "markdown",
      "metadata": {
        "id": "view-in-github",
        "colab_type": "text"
      },
      "source": [
        "<a href=\"https://colab.research.google.com/github/sawsanzaky/-Banking_Finance-GARCH-Models-in-Python/blob/main/Volatility.ipynb\" target=\"_parent\"><img src=\"https://colab.research.google.com/assets/colab-badge.svg\" alt=\"Open In Colab\"/></a>"
      ]
    },
    {
      "cell_type": "markdown",
      "source": [
        "** **Volatility** clustering is frequently observed in financial market data, and it poses a challenge for time series modeling."
      ],
      "metadata": {
        "id": "gqRBPNjzVCVl"
      }
    },
    {
      "cell_type": "code",
      "execution_count": 10,
      "metadata": {
        "id": "dHq01N0oRKwY"
      },
      "outputs": [],
      "source": [
        "import pandas as pd\n",
        "import numpy as np\n",
        "import matplotlib.pyplot as plt\n",
        "import math"
      ]
    },
    {
      "cell_type": "code",
      "source": [
        "!git clone https://github.com/sawsanzaky/-Banking_Finance-GARCH-Models-in-Python"
      ],
      "metadata": {
        "colab": {
          "base_uri": "https://localhost:8080/"
        },
        "id": "RlAj_v2qRaBQ",
        "outputId": "9d25cb14-944d-47aa-dfc2-690ea1255ff8"
      },
      "execution_count": 2,
      "outputs": [
        {
          "output_type": "stream",
          "name": "stdout",
          "text": [
            "Cloning into '-Banking_Finance-GARCH-Models-in-Python'...\n",
            "remote: Enumerating objects: 12, done.\u001b[K\n",
            "remote: Counting objects: 100% (12/12), done.\u001b[K\n",
            "remote: Compressing objects: 100% (10/10), done.\u001b[K\n",
            "remote: Total 12 (delta 1), reused 0 (delta 0), pack-reused 0\u001b[K\n",
            "Unpacking objects: 100% (12/12), done.\n"
          ]
        }
      ]
    },
    {
      "cell_type": "markdown",
      "source": [
        "\n",
        "\n",
        "---\n",
        "\n",
        "\n",
        "\n",
        "---\n",
        "\n"
      ],
      "metadata": {
        "id": "-O0J8QEGehUi"
      }
    },
    {
      "cell_type": "code",
      "source": [
        "sp_price= pd.read_csv(\"/content/-Banking_Finance-GARCH-Models-in-Python/SP500.csv\")\n",
        "print(sp_price.head(2))\n"
      ],
      "metadata": {
        "colab": {
          "base_uri": "https://localhost:8080/"
        },
        "id": "YXcMCcI7J_ka",
        "outputId": "fe82f9a5-c37a-4c51-9a85-261d111e953b"
      },
      "execution_count": 4,
      "outputs": [
        {
          "output_type": "stream",
          "name": "stdout",
          "text": [
            "         Date    Close    Return\n",
            "0  2010/07/01  1027.37 -0.324048\n",
            "1  2010/07/02  1022.58 -0.466239\n"
          ]
        }
      ]
    },
    {
      "cell_type": "code",
      "source": [
        "# Calculate daily returns as percentage price changes\n",
        "sp_price['Return'] = 100 * (sp_price['Close'].pct_change())\n",
        "\n",
        "# View the data\n",
        "print(sp_price.tail(10))\n",
        "\n",
        "# plot the data\n",
        "plt.plot(sp_price['Return'], color = 'tomato', label = 'Daily Returns')\n",
        "plt.title(\"Return\")\n",
        "plt.legend(loc='upper right')\n",
        "plt.show()\n"
      ],
      "metadata": {
        "colab": {
          "base_uri": "https://localhost:8080/",
          "height": 472
        },
        "id": "3Ha5rNRWUuIY",
        "outputId": "f6fbe0e9-66c3-4539-9354-d32b2666a45b"
      },
      "execution_count": 6,
      "outputs": [
        {
          "output_type": "stream",
          "name": "stdout",
          "text": [
            "            Date    Close    Return\n",
            "2326  2019/09/27  2961.79 -0.531633\n",
            "2327  2019/09/30  2976.74  0.504762\n",
            "2328  2019/10/01  2940.25 -1.225838\n",
            "2329  2019/10/02  2887.61 -1.790324\n",
            "2330  2019/10/03  2910.63  0.797199\n",
            "2331  2019/10/04  2952.01  1.421685\n",
            "2332  2019/10/07  2938.79 -0.447830\n",
            "2333  2019/10/08  2893.06 -1.556083\n",
            "2334  2019/10/09  2919.40  0.910455\n",
            "2335  2019/10/10  2938.13  0.641570\n"
          ]
        },
        {
          "output_type": "display_data",
          "data": {
            "image/png": "[encoded data removed]",
            "text/plain": [
              "<Figure size 432x288 with 1 Axes>"
            ]
          },
          "metadata": {
            "needs_background": "light"
          }
        }
      ]
    },
    {
      "cell_type": "markdown",
      "source": [
        "**Calculate volatility**"
      ],
      "metadata": {
        "id": "kvO2A_OMVe-4"
      }
    },
    {
      "cell_type": "code",
      "source": [
        "# Plot the price returns\n",
        "plt.plot(sp_price['Return'], color = 'orange')\n",
        "plt.title(\"price returns\")\n",
        "plt.show()\n",
        "\n",
        "# Calculate daily std of returns\n",
        "std_daily = sp_price['Return'].std()\n",
        "print('Daily volatility: ', '{:.2f}%'.format(std_daily))\n",
        "\n",
        "# Convert daily volatility to monthly volatility\n",
        "std_monthly = math.sqrt(21) * std_daily\n",
        "print ('Monthly volatility: ', '{:.2f}%'.format(std_monthly))\n",
        "\n",
        "# Convert daily volatility to annaul volatility\n",
        "std_annual = math.sqrt(252) * std_daily\n",
        "print ('Annual volatility: ', '{:.2f}%'.format(std_annual))"
      ],
      "metadata": {
        "colab": {
          "base_uri": "https://localhost:8080/",
          "height": 333
        },
        "id": "DcP7aOzhUzba",
        "outputId": "2f6f100e-fbd3-4f55-c998-703af9012ed5"
      },
      "execution_count": 12,
      "outputs": [
        {
          "output_type": "display_data",
          "data": {
            "image/png": "[encoded data removed]",
            "text/plain": [
              "<Figure size 432x288 with 1 Axes>"
            ]
          },
          "metadata": {
            "needs_background": "light"
          }
        },
        {
          "output_type": "stream",
          "name": "stdout",
          "text": [
            "Daily volatility:  0.92%\n",
            "Monthly volatility:  4.20%\n",
            "Annual volatility:  14.55%\n"
          ]
        }
      ]
    },
    {
      "cell_type": "code",
      "source": [
        ""
      ],
      "metadata": {
        "id": "ElVA7qpBVoKf"
      },
      "execution_count": null,
      "outputs": []
    }
  ]
}